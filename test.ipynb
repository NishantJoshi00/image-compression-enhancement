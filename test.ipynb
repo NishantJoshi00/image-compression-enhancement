{
 "cells": [
  {
   "cell_type": "code",
   "execution_count": 1,
   "metadata": {},
   "outputs": [],
   "source": [
    "from predict import encoder, generator"
   ]
  },
  {
   "cell_type": "code",
   "execution_count": 2,
   "metadata": {},
   "outputs": [],
   "source": [
    "import tensorflow as tf\n",
    "from predict import load_img, img_to_array, generate_latent_space, array_to_img, generate_image"
   ]
  },
  {
   "cell_type": "code",
   "execution_count": 3,
   "metadata": {},
   "outputs": [],
   "source": [
    "test_image = load_img(\".\\\\file.png\") "
   ]
  },
  {
   "cell_type": "code",
   "execution_count": 4,
   "metadata": {},
   "outputs": [],
   "source": [
    "test_image = img_to_array(test_image)"
   ]
  },
  {
   "cell_type": "code",
   "execution_count": 5,
   "metadata": {},
   "outputs": [
    {
     "data": {
      "text/plain": [
       "(1782, 198, 3)"
      ]
     },
     "execution_count": 5,
     "metadata": {},
     "output_type": "execute_result"
    }
   ],
   "source": [
    "test_image.shape"
   ]
  },
  {
   "cell_type": "code",
   "execution_count": 6,
   "metadata": {},
   "outputs": [],
   "source": [
    "lv = generate_latent_space(test_image)"
   ]
  },
  {
   "cell_type": "code",
   "execution_count": 7,
   "metadata": {},
   "outputs": [
    {
     "data": {
      "text/plain": [
       "TensorShape([446, 50, 27])"
      ]
     },
     "execution_count": 7,
     "metadata": {},
     "output_type": "execute_result"
    }
   ],
   "source": [
    "lv.shape"
   ]
  },
  {
   "cell_type": "code",
   "execution_count": 8,
   "metadata": {},
   "outputs": [],
   "source": [
    "v = lv[:, :, :3]"
   ]
  },
  {
   "cell_type": "code",
   "execution_count": 9,
   "metadata": {},
   "outputs": [
    {
     "data": {
      "text/plain": [
       "TensorShape([446, 50, 3])"
      ]
     },
     "execution_count": 9,
     "metadata": {},
     "output_type": "execute_result"
    }
   ],
   "source": [
    "v.shape"
   ]
  },
  {
   "cell_type": "code",
   "execution_count": 10,
   "metadata": {},
   "outputs": [],
   "source": [
    "image_set = lv\n",
    "filename = 'file.gif'\n"
   ]
  },
  {
   "cell_type": "code",
   "execution_count": 11,
   "metadata": {},
   "outputs": [],
   "source": [
    "# images[0].save(filename, save_all=True, append_images=images[1:], optimize=False, duration=0, loop=0)"
   ]
  },
  {
   "cell_type": "code",
   "execution_count": 12,
   "metadata": {},
   "outputs": [],
   "source": []
  },
  {
   "cell_type": "code",
   "execution_count": 13,
   "metadata": {},
   "outputs": [
    {
     "data": {
      "text/plain": [
       "TensorShape([446, 50, 27])"
      ]
     },
     "execution_count": 13,
     "metadata": {},
     "output_type": "execute_result"
    }
   ],
   "source": [
    "image_set.shape"
   ]
  },
  {
   "cell_type": "code",
   "execution_count": 14,
   "metadata": {},
   "outputs": [
    {
     "name": "stderr",
     "output_type": "stream",
     "text": [
      "C:\\Users\\nisha\\AppData\\Local\\Temp/ipykernel_18900/3936150644.py:7: FutureWarning: arrays to stack must be passed as a \"sequence\" type such as list or tuple. Support for non-sequence iterables such as generators is deprecated as of NumPy 1.16 and will raise an error in the future.\n",
      "  images = np.vstack(images)\n"
     ]
    }
   ],
   "source": [
    "a = convert_to_multiple(image_set)"
   ]
  },
  {
   "cell_type": "code",
   "execution_count": 15,
   "metadata": {},
   "outputs": [
    {
     "data": {
      "text/plain": [
       "(4014, 50, 3)"
      ]
     },
     "execution_count": 15,
     "metadata": {},
     "output_type": "execute_result"
    }
   ],
   "source": [
    "a.shape"
   ]
  },
  {
   "cell_type": "code",
   "execution_count": 16,
   "metadata": {},
   "outputs": [],
   "source": [
    "from predict import postprocess, preprocess"
   ]
  },
  {
   "cell_type": "code",
   "execution_count": 17,
   "metadata": {},
   "outputs": [
    {
     "data": {
      "text/plain": [
       "array([[133.4547 , 134.72774, 134.17514],\n",
       "       [132.4269 , 129.61624, 134.15555],\n",
       "       [134.13072, 132.34291, 134.08994],\n",
       "       [135.10005, 133.09177, 132.63379],\n",
       "       [135.7369 , 133.83908, 133.22249],\n",
       "       [135.0882 , 132.86014, 133.76418],\n",
       "       [135.64774, 132.8049 , 134.10811],\n",
       "       [135.5351 , 132.76335, 133.47015],\n",
       "       [135.6154 , 132.8829 , 133.73392],\n",
       "       [135.69772, 133.356  , 133.68576],\n",
       "       [135.75838, 132.92032, 133.32864],\n",
       "       [135.87016, 132.9378 , 133.59262],\n",
       "       [135.97049, 132.96214, 133.58878],\n",
       "       [135.99416, 133.06981, 133.54494],\n",
       "       [135.99887, 133.03035, 133.35654],\n",
       "       [135.93234, 133.10315, 133.50638],\n",
       "       [136.21252, 133.01027, 133.4416 ],\n",
       "       [136.13823, 133.1306 , 133.40672],\n",
       "       [136.45747, 133.20078, 133.46637],\n",
       "       [136.30887, 133.25006, 133.47218],\n",
       "       [136.49785, 133.3611 , 133.24374],\n",
       "       [136.42117, 133.17113, 133.22498],\n",
       "       [136.80782, 133.1397 , 133.2953 ],\n",
       "       [136.73894, 133.45241, 133.17421],\n",
       "       [136.91125, 133.83272, 132.69398],\n",
       "       [137.25356, 133.99525, 132.59961],\n",
       "       [137.54485, 134.1947 , 132.37987],\n",
       "       [137.24959, 134.28928, 132.73131],\n",
       "       [136.94409, 133.9923 , 132.96666],\n",
       "       [136.84016, 133.74228, 132.89854],\n",
       "       [136.84492, 133.88551, 132.86092],\n",
       "       [136.99538, 133.89726, 132.79094],\n",
       "       [137.00027, 133.56587, 132.84581],\n",
       "       [137.13545, 133.59038, 133.13478],\n",
       "       [136.8974 , 133.79796, 132.91823],\n",
       "       [137.31125, 133.65851, 132.86781],\n",
       "       [137.28761, 134.05621, 132.8157 ],\n",
       "       [137.42924, 134.09065, 133.0778 ],\n",
       "       [137.64825, 134.01802, 132.88818],\n",
       "       [137.63448, 133.91682, 132.78033],\n",
       "       [137.74788, 134.10869, 132.98962],\n",
       "       [137.52136, 134.2858 , 132.85092],\n",
       "       [137.73814, 134.3864 , 132.91   ],\n",
       "       [137.67282, 134.4735 , 132.93904],\n",
       "       [137.51988, 133.9748 , 132.7188 ],\n",
       "       [137.50832, 135.29895, 131.79826],\n",
       "       [135.89389, 133.78185, 133.91562],\n",
       "       [136.34901, 133.40556, 134.68071],\n",
       "       [132.78986, 129.77548, 133.06145],\n",
       "       [130.13976, 128.41579, 134.10442]], dtype=float32)"
      ]
     },
     "execution_count": 17,
     "metadata": {},
     "output_type": "execute_result"
    }
   ],
   "source": [
    "a = postprocess(a)\n",
    "a[0][1]"
   ]
  },
  {
   "cell_type": "code",
   "execution_count": 18,
   "metadata": {},
   "outputs": [],
   "source": [
    "array_to_img(a).save(\"file.png\")"
   ]
  },
  {
   "cell_type": "code",
   "execution_count": 19,
   "metadata": {},
   "outputs": [],
   "source": [
    "img = load_img(\"file.png\")"
   ]
  },
  {
   "cell_type": "code",
   "execution_count": 20,
   "metadata": {},
   "outputs": [
    {
     "data": {
      "text/plain": [
       "array([[132., 134., 133.],\n",
       "       [131., 128., 133.],\n",
       "       [133., 131., 133.],\n",
       "       [134., 132., 131.],\n",
       "       [135., 133., 132.],\n",
       "       [134., 132., 133.],\n",
       "       [135., 132., 133.],\n",
       "       [135., 132., 132.],\n",
       "       [135., 132., 133.],\n",
       "       [135., 132., 133.],\n",
       "       [135., 132., 132.],\n",
       "       [135., 132., 133.],\n",
       "       [135., 132., 133.],\n",
       "       [135., 132., 132.],\n",
       "       [135., 132., 132.],\n",
       "       [135., 132., 132.],\n",
       "       [136., 132., 132.],\n",
       "       [135., 132., 132.],\n",
       "       [136., 132., 132.],\n",
       "       [136., 132., 132.],\n",
       "       [136., 132., 132.],\n",
       "       [136., 132., 132.],\n",
       "       [136., 132., 132.],\n",
       "       [136., 132., 132.],\n",
       "       [136., 133., 131.],\n",
       "       [137., 133., 131.],\n",
       "       [137., 133., 131.],\n",
       "       [137., 133., 132.],\n",
       "       [136., 133., 132.],\n",
       "       [136., 133., 132.],\n",
       "       [136., 133., 132.],\n",
       "       [136., 133., 132.],\n",
       "       [137., 132., 132.],\n",
       "       [137., 133., 132.],\n",
       "       [136., 133., 132.],\n",
       "       [137., 133., 132.],\n",
       "       [137., 133., 132.],\n",
       "       [137., 133., 132.],\n",
       "       [137., 133., 132.],\n",
       "       [137., 133., 132.],\n",
       "       [137., 133., 132.],\n",
       "       [137., 133., 132.],\n",
       "       [137., 133., 132.],\n",
       "       [137., 134., 132.],\n",
       "       [137., 133., 131.],\n",
       "       [137., 135., 130.],\n",
       "       [135., 133., 133.],\n",
       "       [136., 132., 134.],\n",
       "       [132., 128., 132.],\n",
       "       [128., 126., 133.]], dtype=float32)"
      ]
     },
     "execution_count": 20,
     "metadata": {},
     "output_type": "execute_result"
    }
   ],
   "source": [
    "b = img_to_array(img)\n",
    "b[0]"
   ]
  },
  {
   "cell_type": "code",
   "execution_count": 21,
   "metadata": {},
   "outputs": [
    {
     "data": {
      "text/plain": [
       "(4014, 50, 3)"
      ]
     },
     "execution_count": 21,
     "metadata": {},
     "output_type": "execute_result"
    }
   ],
   "source": [
    "b.shape"
   ]
  },
  {
   "cell_type": "code",
   "execution_count": 22,
   "metadata": {},
   "outputs": [],
   "source": [
    "b = multiple_to_single(b)"
   ]
  },
  {
   "cell_type": "code",
   "execution_count": 23,
   "metadata": {},
   "outputs": [
    {
     "data": {
      "text/plain": [
       "(446, 50, 27)"
      ]
     },
     "execution_count": 23,
     "metadata": {},
     "output_type": "execute_result"
    }
   ],
   "source": [
    "b.shape"
   ]
  },
  {
   "cell_type": "code",
   "execution_count": 24,
   "metadata": {},
   "outputs": [],
   "source": [
    "b = preprocess(b)"
   ]
  },
  {
   "cell_type": "code",
   "execution_count": 25,
   "metadata": {},
   "outputs": [],
   "source": [
    "img = generate_image(b)"
   ]
  },
  {
   "cell_type": "code",
   "execution_count": 26,
   "metadata": {},
   "outputs": [],
   "source": [
    "array_to_img(img).save(\"compare1.png\")"
   ]
  },
  {
   "cell_type": "code",
   "execution_count": 27,
   "metadata": {},
   "outputs": [],
   "source": [
    "array_to_img(generate_image(multiple_to_single(preprocess(a)))).save('compare2.png')"
   ]
  },
  {
   "cell_type": "code",
   "execution_count": 28,
   "metadata": {},
   "outputs": [],
   "source": [
    "img2 = generate_image(multiple_to_single(preprocess(a)))"
   ]
  },
  {
   "cell_type": "code",
   "execution_count": 29,
   "metadata": {},
   "outputs": [
    {
     "data": {
      "text/plain": [
       "TensorShape([1784, 200, 3])"
      ]
     },
     "execution_count": 29,
     "metadata": {},
     "output_type": "execute_result"
    }
   ],
   "source": [
    "img2.shape"
   ]
  },
  {
   "cell_type": "code",
   "execution_count": 30,
   "metadata": {},
   "outputs": [
    {
     "data": {
      "text/plain": [
       "TensorShape([1784, 200, 3])"
      ]
     },
     "execution_count": 30,
     "metadata": {},
     "output_type": "execute_result"
    }
   ],
   "source": [
    "img.shape"
   ]
  }
 ],
 "metadata": {
  "interpreter": {
   "hash": "ac59ebe37160ed0dfa835113d9b8498d9f09ceb179beaac4002f036b9467c963"
  },
  "kernelspec": {
   "display_name": "Python 3.9.6 64-bit",
   "language": "python",
   "name": "python3"
  },
  "language_info": {
   "codemirror_mode": {
    "name": "ipython",
    "version": 3
   },
   "file_extension": ".py",
   "mimetype": "text/x-python",
   "name": "python",
   "nbconvert_exporter": "python",
   "pygments_lexer": "ipython3",
   "version": "3.9.6"
  },
  "orig_nbformat": 4
 },
 "nbformat": 4,
 "nbformat_minor": 2
}
